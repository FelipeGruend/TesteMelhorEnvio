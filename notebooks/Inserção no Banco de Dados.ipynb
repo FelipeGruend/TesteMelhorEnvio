{
 "cells": [
  {
   "cell_type": "markdown",
   "id": "e01709e9",
   "metadata": {},
   "source": [
    "## Configuração e conexão com o Banco de Dados"
   ]
  },
  {
   "cell_type": "code",
   "execution_count": 1,
   "id": "6c34b4c7",
   "metadata": {},
   "outputs": [],
   "source": [
    "import json\n",
    "from mysql.connector import connection\n",
    "from tqdm.notebook import tqdm"
   ]
  },
  {
   "cell_type": "code",
   "execution_count": 2,
   "id": "e51415b4",
   "metadata": {},
   "outputs": [],
   "source": [
    "config = {\n",
    "  'user': 'admin',\n",
    "  'password': 'admin',\n",
    "  'host': 'localhost',\n",
    "  'database': 'melhorenvio',\n",
    "  'raise_on_warnings': True\n",
    "}"
   ]
  },
  {
   "cell_type": "code",
   "execution_count": 3,
   "id": "d979bbb1",
   "metadata": {},
   "outputs": [],
   "source": [
    "cnx = connection.MySQLConnection(**config)"
   ]
  },
  {
   "cell_type": "markdown",
   "id": "7767a51e",
   "metadata": {},
   "source": [
    "### Funções auxiliares para o banco de dados"
   ]
  },
  {
   "cell_type": "code",
   "execution_count": 4,
   "id": "670fbf46",
   "metadata": {},
   "outputs": [],
   "source": [
    "def exists(table, id):\n",
    "    \n",
    "    cursor = cnx.cursor()\n",
    "    \n",
    "    if type(id) == str:\n",
    "        \n",
    "        query = \"SELECT id FROM {} WHERE id='{}'\".format(table, id)        \n",
    "    \n",
    "    else:\n",
    "        \n",
    "        query = \"SELECT id FROM {} WHERE id={}\".format(table, id)\n",
    "\n",
    "    cursor.execute(query)\n",
    "    \n",
    "    result = cursor.fetchone()\n",
    "    \n",
    "    if result is None:\n",
    "        return False\n",
    "    \n",
    "    return True"
   ]
  },
  {
   "cell_type": "code",
   "execution_count": 5,
   "id": "c2490437",
   "metadata": {},
   "outputs": [],
   "source": [
    "def insert(table, columns, values):\n",
    "    \n",
    "    cursor = cnx.cursor()\n",
    "    \n",
    "    columns = ', '.join(columns)\n",
    "    values = \", \".join(repr(x) for x in values)\n",
    "    \n",
    "    query = \"INSERT INTO {} ({}) VALUES ({})\".format(table, columns, values)\n",
    "    \n",
    "    result = cursor.execute(query)\n",
    "    \n",
    "    return cursor.lastrowid"
   ]
  },
  {
   "cell_type": "markdown",
   "id": "b37c2cee",
   "metadata": {},
   "source": [
    "## Criação de uma lista de JSON"
   ]
  },
  {
   "cell_type": "code",
   "execution_count": 6,
   "id": "942a150c",
   "metadata": {},
   "outputs": [],
   "source": [
    "# Cria uma lista para armazenar os objetos JSON\n",
    "logsList = []\n",
    "\n",
    "# Percorre o arquivo lendo cada linha como um objeto json e adicionando à lista\n",
    "with open('../raw_data/logs.txt') as f:\n",
    "    for jsonObj in f:\n",
    "        log = json.loads(jsonObj)\n",
    "        logsList.append(log)"
   ]
  },
  {
   "cell_type": "code",
   "execution_count": 7,
   "id": "5497887f",
   "metadata": {},
   "outputs": [
    {
     "data": {
      "text/plain": [
       "False"
      ]
     },
     "execution_count": 7,
     "metadata": {},
     "output_type": "execute_result"
    }
   ],
   "source": [
    "exists('request', 0)"
   ]
  },
  {
   "cell_type": "markdown",
   "id": "5978995d",
   "metadata": {},
   "source": [
    "## Inserção da lista dentro do banco de dados"
   ]
  },
  {
   "cell_type": "code",
   "execution_count": 8,
   "id": "232933bc",
   "metadata": {
    "scrolled": true
   },
   "outputs": [
    {
     "data": {
      "application/vnd.jupyter.widget-view+json": {
       "model_id": "96446ddd4c0b442eb4550c7709ff3fa6",
       "version_major": 2,
       "version_minor": 0
      },
      "text/plain": [
       "  0%|          | 0/100000 [00:00<?, ?it/s]"
      ]
     },
     "metadata": {},
     "output_type": "display_data"
    }
   ],
   "source": [
    "for log in tqdm(logsList):\n",
    "    \n",
    "    # request\n",
    "    table = 'request'\n",
    "    request = log[table]\n",
    "    \n",
    "    request['headers'] = '[\"'+ str(request['headers']) + '\"]' \n",
    "    request['querystring'] = str(request['querystring'])\n",
    "    \n",
    "    request['id'] = insert(table, request.keys(), request.values())\n",
    "    \n",
    "    # response\n",
    "    table = 'response'\n",
    "    response = log[table]\n",
    "    \n",
    "    response['headers'] = '[\"'+ str(response['headers']) + '\"]' \n",
    "    \n",
    "    response['id'] = insert(table, response.keys(), response.values())\n",
    "    \n",
    "    # authenticated_entity (consumidor)\n",
    "    table = 'authenticated_entity'\n",
    "    authenticated_entity = log[table]\n",
    "    authenticated_entity['consumer_id']['uuid'] = authenticated_entity['consumer_id']['uuid']\n",
    "    \n",
    "    if not exists(table, authenticated_entity['consumer_id']['uuid']):\n",
    "        insert(table, ['id'], [authenticated_entity['consumer_id']['uuid']])\n",
    "        \n",
    "    # route\n",
    "    table = 'route'\n",
    "    route = log[table]\n",
    "    route['methods'] = \", \".join(route['methods'])\n",
    "    route['protocols'] = \", \".join(route['protocols'])\n",
    "    route['paths'] = \", \".join(route['paths'])\n",
    "    \n",
    "        # Remoção do id do serviço pois esse dado está na tabela log \n",
    "    route.pop('service', None)\n",
    "    \n",
    "    if not exists(table, route['id']):\n",
    "        insert(table, route.keys(), route.values())\n",
    "        \n",
    "    # service\n",
    "    table = 'service'\n",
    "    service = log[table]\n",
    "    \n",
    "    if not exists(table, service['id']):\n",
    "        insert(table, service.keys(), service.values())\n",
    "        \n",
    "    # latencies\n",
    "    table = 'latencies'\n",
    "    latencies = log[table]   \n",
    "    \n",
    "    latencies['id'] = insert(table, latencies.keys(), latencies.values())\n",
    "\n",
    "    # log\n",
    "    table = 'log'\n",
    "    columns = [\n",
    "        'upstream_uri',\n",
    "        'client_ip',\n",
    "        'started_at',\n",
    "        'request_id',\n",
    "        'response_id',\n",
    "        'authenticated_entity_id',\n",
    "        'route_id',\n",
    "        'service_id',\n",
    "        'latencies_id'\n",
    "    ]\n",
    "    \n",
    "    values = [\n",
    "        log['upstream_uri'],\n",
    "        log['client_ip'],\n",
    "        log['started_at'],\n",
    "        request['id'],\n",
    "        response['id'],\n",
    "        authenticated_entity['consumer_id']['uuid'],\n",
    "        route['id'],\n",
    "        service['id'],\n",
    "        latencies['id']\n",
    "    ]\n",
    "    \n",
    "    insert(table, columns, values)\n",
    "    cnx.commit()"
   ]
  },
  {
   "cell_type": "code",
   "execution_count": 9,
   "id": "8818d9fa",
   "metadata": {},
   "outputs": [],
   "source": [
    "cnx.close()"
   ]
  },
  {
   "cell_type": "markdown",
   "id": "9b53e480",
   "metadata": {},
   "source": [
    "Conferindo se a inserção deu certo:"
   ]
  },
  {
   "cell_type": "code",
   "execution_count": 12,
   "id": "2fa43a50",
   "metadata": {},
   "outputs": [],
   "source": [
    "# Conectando novamente com a base\n",
    "cnx = connection.MySQLConnection(**config)\n",
    "cursor = cnx.cursor()\n",
    "    \n",
    "query = \"SELECT COUNT(*) FROM log;\"\n",
    "cursor.execute(query)\n",
    "result = cursor.fetchone()"
   ]
  },
  {
   "cell_type": "code",
   "execution_count": 13,
   "id": "fea00618",
   "metadata": {},
   "outputs": [
    {
     "data": {
      "text/plain": [
       "(100000,)"
      ]
     },
     "execution_count": 13,
     "metadata": {},
     "output_type": "execute_result"
    }
   ],
   "source": [
    "result"
   ]
  },
  {
   "cell_type": "markdown",
   "id": "987c95b3",
   "metadata": {},
   "source": [
    "Resultado correto, todos os 100mil logs foram armazenados."
   ]
  }
 ],
 "metadata": {
  "kernelspec": {
   "display_name": "Python 3",
   "language": "python",
   "name": "python3"
  },
  "language_info": {
   "codemirror_mode": {
    "name": "ipython",
    "version": 3
   },
   "file_extension": ".py",
   "mimetype": "text/x-python",
   "name": "python",
   "nbconvert_exporter": "python",
   "pygments_lexer": "ipython3",
   "version": "3.8.10"
  },
  "toc": {
   "base_numbering": 1,
   "nav_menu": {},
   "number_sections": true,
   "sideBar": true,
   "skip_h1_title": false,
   "title_cell": "Table of Contents",
   "title_sidebar": "Contents",
   "toc_cell": false,
   "toc_position": {},
   "toc_section_display": true,
   "toc_window_display": true
  }
 },
 "nbformat": 4,
 "nbformat_minor": 5
}
