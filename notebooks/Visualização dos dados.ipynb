{
 "cells": [
  {
   "cell_type": "markdown",
   "id": "89e88704",
   "metadata": {},
   "source": [
    "# Processamento de Dados"
   ]
  },
  {
   "cell_type": "markdown",
   "id": "05a53c88",
   "metadata": {},
   "source": [
    "Este notebook tem como objetivo entender a organização dos objetos JSON ddo arquivo, assim servirá como base para o projeto do banco de dados."
   ]
  },
  {
   "cell_type": "markdown",
   "id": "0b26824f",
   "metadata": {},
   "source": [
    "## Importação das bibliotecas"
   ]
  },
  {
   "cell_type": "code",
   "execution_count": 1,
   "id": "be948363",
   "metadata": {},
   "outputs": [],
   "source": [
    "import json\n",
    "import random\n",
    "import pandas as pd"
   ]
  },
  {
   "cell_type": "markdown",
   "id": "85dc79f2",
   "metadata": {},
   "source": [
    "## Leitura dos JSONs do arquivo"
   ]
  },
  {
   "cell_type": "code",
   "execution_count": 2,
   "id": "ab105b76",
   "metadata": {},
   "outputs": [],
   "source": [
    "# Cria uma lista para armazenar os objetos JSON\n",
    "logsList = []\n",
    "\n",
    "# Percorre o arquivo lendo cada linha como um objeto json e adicionando à lista\n",
    "with open('../raw_data/logs.txt') as f:\n",
    "    for jsonObj in f:\n",
    "        log = json.loads(jsonObj)\n",
    "        logsList.append(log)"
   ]
  },
  {
   "cell_type": "markdown",
   "id": "317a3cef",
   "metadata": {},
   "source": [
    "### Primeira impressão da organização do JSON"
   ]
  },
  {
   "cell_type": "markdown",
   "id": "e7cd1e4f",
   "metadata": {},
   "source": [
    "Visualização dos dados de um exemplo aletório"
   ]
  },
  {
   "cell_type": "code",
   "execution_count": 3,
   "id": "d4ac3b53",
   "metadata": {},
   "outputs": [],
   "source": [
    "r = random.randint(0, len(logsList))"
   ]
  },
  {
   "cell_type": "code",
   "execution_count": 4,
   "id": "e9c7e57a",
   "metadata": {},
   "outputs": [],
   "source": [
    "sample = logsList[r]"
   ]
  },
  {
   "cell_type": "code",
   "execution_count": 5,
   "id": "b270d672",
   "metadata": {},
   "outputs": [
    {
     "data": {
      "text/plain": [
       "request                  object\n",
       "upstream_uri             object\n",
       "response                 object\n",
       "authenticated_entity     object\n",
       "route                    object\n",
       "service                  object\n",
       "latencies               float64\n",
       "client_ip                object\n",
       "started_at                int64\n",
       "dtype: object"
      ]
     },
     "execution_count": 5,
     "metadata": {},
     "output_type": "execute_result"
    }
   ],
   "source": [
    "pd.DataFrame(sample).dtypes"
   ]
  },
  {
   "cell_type": "code",
   "execution_count": 6,
   "id": "32eca632",
   "metadata": {},
   "outputs": [
    {
     "data": {
      "text/plain": [
       "{'request': {'method': 'GET',\n",
       "  'uri': '/',\n",
       "  'url': 'http://dibbert.biz',\n",
       "  'size': 176,\n",
       "  'querystring': [],\n",
       "  'headers': {'accept': '*/*',\n",
       "   'host': 'dibbert.biz',\n",
       "   'user-agent': 'curl/7.37.1'}},\n",
       " 'upstream_uri': '/',\n",
       " 'response': {'status': 200,\n",
       "  'size': 319,\n",
       "  'headers': {'Content-Length': '197',\n",
       "   'via': 'kong/1.3.0',\n",
       "   'Connection': 'close',\n",
       "   'access-control-allow-credentials': 'true',\n",
       "   'Content-Type': 'application/json',\n",
       "   'server': 'nginx',\n",
       "   'access-control-allow-origin': '*'}},\n",
       " 'authenticated_entity': {'consumer_id': {'uuid': 'b235ed88-1a20-3585-a237-a85f288b1067'}},\n",
       " 'route': {'created_at': 1561154217,\n",
       "  'hosts': 'schneider.com',\n",
       "  'id': '7bedb816-c359-3b8c-a0f9-b03b46c63402',\n",
       "  'methods': ['GET', 'POST', 'PUT', 'DELETE', 'PATCH', 'OPTIONS', 'HEAD'],\n",
       "  'paths': ['/'],\n",
       "  'preserve_host': False,\n",
       "  'protocols': ['http', 'https'],\n",
       "  'regex_priority': 0,\n",
       "  'service': {'id': 'd035ffcf-914a-3007-b028-ae18f04d75b4'},\n",
       "  'strip_path': True,\n",
       "  'updated_at': 1561154217},\n",
       " 'service': {'connect_timeout': 60000,\n",
       "  'created_at': 1547309158,\n",
       "  'host': 'terry.org',\n",
       "  'id': 'd035ffcf-914a-3007-b028-ae18f04d75b4',\n",
       "  'name': 'terry',\n",
       "  'path': '/',\n",
       "  'port': 80,\n",
       "  'protocol': 'http',\n",
       "  'read_timeout': 60000,\n",
       "  'retries': 5,\n",
       "  'updated_at': 1547309158,\n",
       "  'write_timeout': 60000},\n",
       " 'latencies': {'proxy': 1254, 'kong': 8, 'request': 2339},\n",
       " 'client_ip': '92.18.244.117',\n",
       " 'started_at': 1544151801}"
      ]
     },
     "execution_count": 6,
     "metadata": {},
     "output_type": "execute_result"
    }
   ],
   "source": [
    "sample"
   ]
  },
  {
   "cell_type": "markdown",
   "id": "1e109ce2",
   "metadata": {},
   "source": [
    "## Varredura das chaves dos JSONs"
   ]
  },
  {
   "cell_type": "markdown",
   "id": "cc2fc104",
   "metadata": {},
   "source": [
    "Assumindo que as chaves no primeiro nível são constantes e presentes em todos exemplos, vamos verificar apenas as subchaves."
   ]
  },
  {
   "cell_type": "code",
   "execution_count": 22,
   "id": "f7dd73db",
   "metadata": {},
   "outputs": [],
   "source": [
    "# chaves do primeiro nível\n",
    "main_keys = sample.keys()\n",
    "\n",
    "subkeys = {}\n",
    "\n",
    "for k in main_keys:\n",
    "    subkeys[k] = set()"
   ]
  },
  {
   "cell_type": "code",
   "execution_count": 23,
   "id": "bc998758",
   "metadata": {},
   "outputs": [],
   "source": [
    "for jsonObj in logsList:\n",
    "    for k in main_keys:\n",
    "        if type(jsonObj[k]) == dict:\n",
    "            subkeys[k].update(jsonObj[k].keys())"
   ]
  },
  {
   "cell_type": "markdown",
   "id": "43269122",
   "metadata": {},
   "source": [
    "Tendo varrido o conjunto das subchaves, vamos utilizá-los como referência para criação do modelo relacional."
   ]
  },
  {
   "cell_type": "code",
   "execution_count": 26,
   "id": "f713937d",
   "metadata": {},
   "outputs": [
    {
     "name": "stdout",
     "output_type": "stream",
     "text": [
      "request: {'method', 'size', 'headers', 'uri', 'url', 'querystring'}\n",
      "\n",
      "upstream_uri: set()\n",
      "\n",
      "response: {'size', 'status', 'headers'}\n",
      "\n",
      "authenticated_entity: {'consumer_id'}\n",
      "\n",
      "route: {'methods', 'regex_priority', 'preserve_host', 'hosts', 'strip_path', 'protocols', 'paths', 'updated_at', 'created_at', 'id', 'service'}\n",
      "\n",
      "service: {'path', 'protocol', 'retries', 'port', 'connect_timeout', 'read_timeout', 'host', 'name', 'updated_at', 'created_at', 'id', 'write_timeout'}\n",
      "\n",
      "latencies: {'proxy', 'kong', 'request'}\n",
      "\n",
      "client_ip: set()\n",
      "\n",
      "started_at: set()\n",
      "\n"
     ]
    }
   ],
   "source": [
    "for k,v in subkeys.items():\n",
    "    print(\"{}: {}\".format(k, v))\n",
    "    print()"
   ]
  }
 ],
 "metadata": {
  "kernelspec": {
   "display_name": "Python 3",
   "language": "python",
   "name": "python3"
  },
  "language_info": {
   "codemirror_mode": {
    "name": "ipython",
    "version": 3
   },
   "file_extension": ".py",
   "mimetype": "text/x-python",
   "name": "python",
   "nbconvert_exporter": "python",
   "pygments_lexer": "ipython3",
   "version": "3.8.10"
  },
  "toc": {
   "base_numbering": 1,
   "nav_menu": {},
   "number_sections": true,
   "sideBar": true,
   "skip_h1_title": false,
   "title_cell": "Table of Contents",
   "title_sidebar": "Contents",
   "toc_cell": false,
   "toc_position": {},
   "toc_section_display": true,
   "toc_window_display": true
  }
 },
 "nbformat": 4,
 "nbformat_minor": 5
}
