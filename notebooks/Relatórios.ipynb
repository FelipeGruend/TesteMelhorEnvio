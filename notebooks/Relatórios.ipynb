{
 "cells": [
  {
   "cell_type": "markdown",
   "id": "fcb42f61",
   "metadata": {},
   "source": [
    "# Relatórios"
   ]
  },
  {
   "cell_type": "markdown",
   "id": "95aa69bb",
   "metadata": {},
   "source": [
    "Este notebook é relativo a geração dos relatórios em csv."
   ]
  },
  {
   "cell_type": "markdown",
   "id": "e01709e9",
   "metadata": {},
   "source": [
    "## Configuração e conexão com o Banco de Dados"
   ]
  },
  {
   "cell_type": "code",
   "execution_count": 1,
   "id": "6c34b4c7",
   "metadata": {},
   "outputs": [],
   "source": [
    "from mysql.connector import connection\n",
    "from tqdm.notebook import tqdm\n",
    "import pandas as pd"
   ]
  },
  {
   "cell_type": "code",
   "execution_count": 2,
   "id": "e51415b4",
   "metadata": {},
   "outputs": [],
   "source": [
    "config = {\n",
    "  'user': 'admin',\n",
    "  'password': 'admin',\n",
    "  'host': 'localhost',\n",
    "  'database': 'melhorenvio',\n",
    "  'raise_on_warnings': True\n",
    "}"
   ]
  },
  {
   "cell_type": "code",
   "execution_count": 3,
   "id": "d979bbb1",
   "metadata": {},
   "outputs": [],
   "source": [
    "cnx = connection.MySQLConnection(**config)"
   ]
  },
  {
   "cell_type": "markdown",
   "id": "e9c27c9a",
   "metadata": {},
   "source": [
    "## Relatório 1"
   ]
  },
  {
   "cell_type": "markdown",
   "id": "23a1a4a8",
   "metadata": {},
   "source": [
    "Requisições por consumidor"
   ]
  },
  {
   "cell_type": "code",
   "execution_count": 4,
   "id": "4d666675",
   "metadata": {},
   "outputs": [],
   "source": [
    "query = \"\"\"\n",
    "SELECT authenticated_entity.id, COUNT(log.request_id)\n",
    "FROM log JOIN authenticated_entity ON log.authenticated_entity_id  = authenticated_entity.id\n",
    "GROUP BY authenticated_entity.id;\n",
    "\"\"\""
   ]
  },
  {
   "cell_type": "code",
   "execution_count": 5,
   "id": "102945fe",
   "metadata": {},
   "outputs": [
    {
     "data": {
      "text/html": [
       "<div>\n",
       "<style scoped>\n",
       "    .dataframe tbody tr th:only-of-type {\n",
       "        vertical-align: middle;\n",
       "    }\n",
       "\n",
       "    .dataframe tbody tr th {\n",
       "        vertical-align: top;\n",
       "    }\n",
       "\n",
       "    .dataframe thead th {\n",
       "        text-align: right;\n",
       "    }\n",
       "</style>\n",
       "<table border=\"1\" class=\"dataframe\">\n",
       "  <thead>\n",
       "    <tr style=\"text-align: right;\">\n",
       "      <th></th>\n",
       "      <th>id</th>\n",
       "      <th>COUNT(log.request_id)</th>\n",
       "    </tr>\n",
       "  </thead>\n",
       "  <tbody>\n",
       "    <tr>\n",
       "      <th>0</th>\n",
       "      <td>00032b9b-2ed2-354c-acc2-1abe1b205879</td>\n",
       "      <td>15</td>\n",
       "    </tr>\n",
       "    <tr>\n",
       "      <th>1</th>\n",
       "      <td>0003e5b9-9ff3-3e5d-8386-de78ecf9f13d</td>\n",
       "      <td>6</td>\n",
       "    </tr>\n",
       "    <tr>\n",
       "      <th>2</th>\n",
       "      <td>00058fa2-9b7c-37a7-8bf5-4ab8d97ef1cd</td>\n",
       "      <td>11</td>\n",
       "    </tr>\n",
       "    <tr>\n",
       "      <th>3</th>\n",
       "      <td>000d78d6-ec09-3f39-86ee-fe6e326b9d04</td>\n",
       "      <td>7</td>\n",
       "    </tr>\n",
       "    <tr>\n",
       "      <th>4</th>\n",
       "      <td>00277480-ee66-35d8-9510-1d877ea62b62</td>\n",
       "      <td>7</td>\n",
       "    </tr>\n",
       "    <tr>\n",
       "      <th>...</th>\n",
       "      <td>...</td>\n",
       "      <td>...</td>\n",
       "    </tr>\n",
       "    <tr>\n",
       "      <th>9994</th>\n",
       "      <td>fff061e2-0812-3034-9f65-b48dcc9ea037</td>\n",
       "      <td>8</td>\n",
       "    </tr>\n",
       "    <tr>\n",
       "      <th>9995</th>\n",
       "      <td>fff42b2d-4b2c-399e-bdb5-6901850ec362</td>\n",
       "      <td>6</td>\n",
       "    </tr>\n",
       "    <tr>\n",
       "      <th>9996</th>\n",
       "      <td>fff452f4-aa19-362b-ac7a-e3c1e71703c8</td>\n",
       "      <td>8</td>\n",
       "    </tr>\n",
       "    <tr>\n",
       "      <th>9997</th>\n",
       "      <td>fff8a78f-838b-3283-9b1d-b6a3f3bcb150</td>\n",
       "      <td>13</td>\n",
       "    </tr>\n",
       "    <tr>\n",
       "      <th>9998</th>\n",
       "      <td>fffd702f-4d9b-3681-932d-e7e2f8a9a182</td>\n",
       "      <td>8</td>\n",
       "    </tr>\n",
       "  </tbody>\n",
       "</table>\n",
       "<p>9999 rows × 2 columns</p>\n",
       "</div>"
      ],
      "text/plain": [
       "                                        id  COUNT(log.request_id)\n",
       "0     00032b9b-2ed2-354c-acc2-1abe1b205879                     15\n",
       "1     0003e5b9-9ff3-3e5d-8386-de78ecf9f13d                      6\n",
       "2     00058fa2-9b7c-37a7-8bf5-4ab8d97ef1cd                     11\n",
       "3     000d78d6-ec09-3f39-86ee-fe6e326b9d04                      7\n",
       "4     00277480-ee66-35d8-9510-1d877ea62b62                      7\n",
       "...                                    ...                    ...\n",
       "9994  fff061e2-0812-3034-9f65-b48dcc9ea037                      8\n",
       "9995  fff42b2d-4b2c-399e-bdb5-6901850ec362                      6\n",
       "9996  fff452f4-aa19-362b-ac7a-e3c1e71703c8                      8\n",
       "9997  fff8a78f-838b-3283-9b1d-b6a3f3bcb150                     13\n",
       "9998  fffd702f-4d9b-3681-932d-e7e2f8a9a182                      8\n",
       "\n",
       "[9999 rows x 2 columns]"
      ]
     },
     "execution_count": 5,
     "metadata": {},
     "output_type": "execute_result"
    }
   ],
   "source": [
    "df = pd.read_sql(query, cnx)\n",
    "df"
   ]
  },
  {
   "cell_type": "code",
   "execution_count": 6,
   "id": "61020ee7",
   "metadata": {},
   "outputs": [],
   "source": [
    "df.to_csv('relatorios/requisicoes_por_consumidor.csv', index=False)"
   ]
  },
  {
   "cell_type": "markdown",
   "id": "387a992e",
   "metadata": {},
   "source": [
    "## Relatório 2"
   ]
  },
  {
   "cell_type": "markdown",
   "id": "1a736bfa",
   "metadata": {},
   "source": [
    "Requisições por serviço"
   ]
  },
  {
   "cell_type": "code",
   "execution_count": 7,
   "id": "641450ec",
   "metadata": {},
   "outputs": [],
   "source": [
    "query = \"\"\"\n",
    "SELECT service.id, COUNT(log.service_id)\n",
    "FROM log JOIN service ON log.service_id  = service.id\n",
    "GROUP BY service.id;\n",
    "\"\"\""
   ]
  },
  {
   "cell_type": "code",
   "execution_count": 8,
   "id": "6124b2be",
   "metadata": {},
   "outputs": [
    {
     "data": {
      "text/html": [
       "<div>\n",
       "<style scoped>\n",
       "    .dataframe tbody tr th:only-of-type {\n",
       "        vertical-align: middle;\n",
       "    }\n",
       "\n",
       "    .dataframe tbody tr th {\n",
       "        vertical-align: top;\n",
       "    }\n",
       "\n",
       "    .dataframe thead th {\n",
       "        text-align: right;\n",
       "    }\n",
       "</style>\n",
       "<table border=\"1\" class=\"dataframe\">\n",
       "  <thead>\n",
       "    <tr style=\"text-align: right;\">\n",
       "      <th></th>\n",
       "      <th>id</th>\n",
       "      <th>COUNT(log.service_id)</th>\n",
       "    </tr>\n",
       "  </thead>\n",
       "  <tbody>\n",
       "    <tr>\n",
       "      <th>0</th>\n",
       "      <td>22f8e3a6-01f7-3264-b4b5-9d178df11d06</td>\n",
       "      <td>20054</td>\n",
       "    </tr>\n",
       "    <tr>\n",
       "      <th>1</th>\n",
       "      <td>a5bf08bd-c030-30d5-8009-83a8c30103bf</td>\n",
       "      <td>19963</td>\n",
       "    </tr>\n",
       "    <tr>\n",
       "      <th>2</th>\n",
       "      <td>c3e86413-648a-3552-90c3-b13491ee07d6</td>\n",
       "      <td>19943</td>\n",
       "    </tr>\n",
       "    <tr>\n",
       "      <th>3</th>\n",
       "      <td>d035ffcf-914a-3007-b028-ae18f04d75b4</td>\n",
       "      <td>20148</td>\n",
       "    </tr>\n",
       "    <tr>\n",
       "      <th>4</th>\n",
       "      <td>eb1ce287-5797-3e45-b9a6-e6d51691257e</td>\n",
       "      <td>19892</td>\n",
       "    </tr>\n",
       "  </tbody>\n",
       "</table>\n",
       "</div>"
      ],
      "text/plain": [
       "                                     id  COUNT(log.service_id)\n",
       "0  22f8e3a6-01f7-3264-b4b5-9d178df11d06                  20054\n",
       "1  a5bf08bd-c030-30d5-8009-83a8c30103bf                  19963\n",
       "2  c3e86413-648a-3552-90c3-b13491ee07d6                  19943\n",
       "3  d035ffcf-914a-3007-b028-ae18f04d75b4                  20148\n",
       "4  eb1ce287-5797-3e45-b9a6-e6d51691257e                  19892"
      ]
     },
     "execution_count": 8,
     "metadata": {},
     "output_type": "execute_result"
    }
   ],
   "source": [
    "df = pd.read_sql(query, cnx)\n",
    "df"
   ]
  },
  {
   "cell_type": "code",
   "execution_count": 9,
   "id": "3d908aab",
   "metadata": {},
   "outputs": [],
   "source": [
    "df.to_csv('relatorios/requisicoes_por_servico.csv', index=False)"
   ]
  },
  {
   "cell_type": "markdown",
   "id": "0ef0677a",
   "metadata": {},
   "source": [
    "## Relatório 3"
   ]
  },
  {
   "cell_type": "markdown",
   "id": "cf88b67e",
   "metadata": {},
   "source": [
    "Tempo médio de request, proxy e kong por serviço."
   ]
  },
  {
   "cell_type": "code",
   "execution_count": 10,
   "id": "0ef368d1",
   "metadata": {},
   "outputs": [],
   "source": [
    "query = \"\"\"\n",
    "SELECT log.service_id,\n",
    "       AVG(latencies.proxy),\n",
    "       AVG(latencies.kong),\n",
    "       AVG(latencies.request)\n",
    "FROM log JOIN latencies ON log.latencies_id  = latencies.id\n",
    "GROUP BY log.service_id;\n",
    "\"\"\""
   ]
  },
  {
   "cell_type": "code",
   "execution_count": 11,
   "id": "df25166f",
   "metadata": {},
   "outputs": [
    {
     "data": {
      "text/html": [
       "<div>\n",
       "<style scoped>\n",
       "    .dataframe tbody tr th:only-of-type {\n",
       "        vertical-align: middle;\n",
       "    }\n",
       "\n",
       "    .dataframe tbody tr th {\n",
       "        vertical-align: top;\n",
       "    }\n",
       "\n",
       "    .dataframe thead th {\n",
       "        text-align: right;\n",
       "    }\n",
       "</style>\n",
       "<table border=\"1\" class=\"dataframe\">\n",
       "  <thead>\n",
       "    <tr style=\"text-align: right;\">\n",
       "      <th></th>\n",
       "      <th>service_id</th>\n",
       "      <th>AVG(latencies.proxy)</th>\n",
       "      <th>AVG(latencies.kong)</th>\n",
       "      <th>AVG(latencies.request)</th>\n",
       "    </tr>\n",
       "  </thead>\n",
       "  <tbody>\n",
       "    <tr>\n",
       "      <th>0</th>\n",
       "      <td>22f8e3a6-01f7-3264-b4b5-9d178df11d06</td>\n",
       "      <td>1401.4732</td>\n",
       "      <td>12.5724</td>\n",
       "      <td>1750.1236</td>\n",
       "    </tr>\n",
       "    <tr>\n",
       "      <th>1</th>\n",
       "      <td>a5bf08bd-c030-30d5-8009-83a8c30103bf</td>\n",
       "      <td>1394.6939</td>\n",
       "      <td>12.4260</td>\n",
       "      <td>1750.2643</td>\n",
       "    </tr>\n",
       "    <tr>\n",
       "      <th>2</th>\n",
       "      <td>c3e86413-648a-3552-90c3-b13491ee07d6</td>\n",
       "      <td>1400.4764</td>\n",
       "      <td>12.5028</td>\n",
       "      <td>1747.7644</td>\n",
       "    </tr>\n",
       "    <tr>\n",
       "      <th>3</th>\n",
       "      <td>d035ffcf-914a-3007-b028-ae18f04d75b4</td>\n",
       "      <td>1403.1892</td>\n",
       "      <td>12.5060</td>\n",
       "      <td>1742.2690</td>\n",
       "    </tr>\n",
       "    <tr>\n",
       "      <th>4</th>\n",
       "      <td>eb1ce287-5797-3e45-b9a6-e6d51691257e</td>\n",
       "      <td>1401.5103</td>\n",
       "      <td>12.5024</td>\n",
       "      <td>1750.3413</td>\n",
       "    </tr>\n",
       "  </tbody>\n",
       "</table>\n",
       "</div>"
      ],
      "text/plain": [
       "                             service_id  AVG(latencies.proxy)  \\\n",
       "0  22f8e3a6-01f7-3264-b4b5-9d178df11d06             1401.4732   \n",
       "1  a5bf08bd-c030-30d5-8009-83a8c30103bf             1394.6939   \n",
       "2  c3e86413-648a-3552-90c3-b13491ee07d6             1400.4764   \n",
       "3  d035ffcf-914a-3007-b028-ae18f04d75b4             1403.1892   \n",
       "4  eb1ce287-5797-3e45-b9a6-e6d51691257e             1401.5103   \n",
       "\n",
       "   AVG(latencies.kong)  AVG(latencies.request)  \n",
       "0              12.5724               1750.1236  \n",
       "1              12.4260               1750.2643  \n",
       "2              12.5028               1747.7644  \n",
       "3              12.5060               1742.2690  \n",
       "4              12.5024               1750.3413  "
      ]
     },
     "execution_count": 11,
     "metadata": {},
     "output_type": "execute_result"
    }
   ],
   "source": [
    "df = pd.read_sql(query, cnx)\n",
    "df"
   ]
  },
  {
   "cell_type": "code",
   "execution_count": 12,
   "id": "26968701",
   "metadata": {},
   "outputs": [],
   "source": [
    "df.to_csv('relatorios/tempos_medios_por_servico.csv', index=False)"
   ]
  },
  {
   "cell_type": "code",
   "execution_count": 13,
   "id": "ecb07134",
   "metadata": {},
   "outputs": [],
   "source": [
    "cnx.close()"
   ]
  }
 ],
 "metadata": {
  "kernelspec": {
   "display_name": "Python 3",
   "language": "python",
   "name": "python3"
  },
  "language_info": {
   "codemirror_mode": {
    "name": "ipython",
    "version": 3
   },
   "file_extension": ".py",
   "mimetype": "text/x-python",
   "name": "python",
   "nbconvert_exporter": "python",
   "pygments_lexer": "ipython3",
   "version": "3.8.10"
  },
  "toc": {
   "base_numbering": 1,
   "nav_menu": {},
   "number_sections": true,
   "sideBar": true,
   "skip_h1_title": false,
   "title_cell": "Table of Contents",
   "title_sidebar": "Contents",
   "toc_cell": false,
   "toc_position": {},
   "toc_section_display": true,
   "toc_window_display": false
  }
 },
 "nbformat": 4,
 "nbformat_minor": 5
}
